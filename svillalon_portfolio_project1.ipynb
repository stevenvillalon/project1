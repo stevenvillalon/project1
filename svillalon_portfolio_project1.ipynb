{
 "cells": [
  {
   "cell_type": "markdown",
   "metadata": {},
   "source": [
    "# Steven Villalon: Portfolio Project 1\n",
    "### Fall 2024\n",
    "\n",
    "I have always been a big fan of the NBA, especially my hometown Miami Heat. As I work through my first semester in the Data Science master's program at Notre Dame, I wanted to do a simple project that would allow me to apply some of the lessons and techniques that I have been learning this semester.\n",
    "\n",
    "Most of us who watch sports like to debate silly things like, \"How likely is it that Lebron will go off for 40 points tonight?\" For the project below, I will practice making histograms in Python and use them to assess the liklihood that a player will reach a certain threshold for a given statistic. I will be using data from the most recently completed NBA season (plus the handful of games that have already taken place this season) to try to answer some fun questions about my favorite players.\n",
    "\n",
    "Eventually, I would like to turn this to an interactive online dashboard.\n",
    "\n",
    "The data is provided by the NBA using [nba_api](https://github.com/swar/nba_api/tree/master)."
   ]
  },
  {
   "cell_type": "code",
   "execution_count": 175,
   "metadata": {},
   "outputs": [],
   "source": [
    "# Dependencies\n",
    "import pandas as pd\n",
    "import numpy as np\n",
    "import matplotlib.pyplot as plt\n",
    "from IPython.display import Image, display\n",
    "from scipy import stats\n",
    "from datetime import datetime"
   ]
  },
  {
   "cell_type": "markdown",
   "metadata": {},
   "source": [
    "I will focus my analysis on my favorite team, the 3-time NBA champion Miami Heat. However, I have set up the notebook so that anyone playing with it could easily select another team."
   ]
  },
  {
   "cell_type": "code",
   "execution_count": 176,
   "metadata": {},
   "outputs": [],
   "source": [
    "# Team of Interest\n",
    "my_team_name = \"Miami Heat\""
   ]
  },
  {
   "cell_type": "code",
   "execution_count": 177,
   "metadata": {},
   "outputs": [
    {
     "name": "stdout",
     "output_type": "stream",
     "text": [
      "The team ID for the Miami Heat is 1610612748.\n"
     ]
    },
    {
     "data": {
      "text/html": [
       "<img src=\"https://cdn.nba.com/logos/nba/1610612748/primary/L/logo.svg\"/>"
      ],
      "text/plain": [
       "<IPython.core.display.Image object>"
      ]
     },
     "metadata": {},
     "output_type": "display_data"
    }
   ],
   "source": [
    "# Step 1: Get Team ID\n",
    "from nba_api.stats.static import teams\n",
    "from nba_api.stats.endpoints import commonteamroster\n",
    "\n",
    "nba_teams = teams.get_teams()\n",
    "my_team_info = [team for team in nba_teams if team['full_name'] == my_team_name]\n",
    "my_team_id = my_team_info[0][\"id\"]\n",
    "print(f\"The team ID for the {my_team_name} is {my_team_id}.\")\n",
    "\n",
    "# Get Team Logo\n",
    "url = f\"https://cdn.nba.com/logos/nba/{my_team_id}/primary/L/logo.svg\"\n",
    "\n",
    "# Display the image\n",
    "display(Image(url=url))"
   ]
  },
  {
   "cell_type": "code",
   "execution_count": 178,
   "metadata": {},
   "outputs": [
    {
     "data": {
      "text/html": [
       "<div>\n",
       "<style scoped>\n",
       "    .dataframe tbody tr th:only-of-type {\n",
       "        vertical-align: middle;\n",
       "    }\n",
       "\n",
       "    .dataframe tbody tr th {\n",
       "        vertical-align: top;\n",
       "    }\n",
       "\n",
       "    .dataframe thead th {\n",
       "        text-align: right;\n",
       "    }\n",
       "</style>\n",
       "<table border=\"1\" class=\"dataframe\">\n",
       "  <thead>\n",
       "    <tr style=\"text-align: right;\">\n",
       "      <th></th>\n",
       "      <th>TeamID</th>\n",
       "      <th>SEASON</th>\n",
       "      <th>LeagueID</th>\n",
       "      <th>PLAYER</th>\n",
       "      <th>NICKNAME</th>\n",
       "      <th>PLAYER_SLUG</th>\n",
       "      <th>NUM</th>\n",
       "      <th>POSITION</th>\n",
       "      <th>HEIGHT</th>\n",
       "      <th>WEIGHT</th>\n",
       "      <th>BIRTH_DATE</th>\n",
       "      <th>AGE</th>\n",
       "      <th>EXP</th>\n",
       "      <th>SCHOOL</th>\n",
       "      <th>PLAYER_ID</th>\n",
       "      <th>HOW_ACQUIRED</th>\n",
       "    </tr>\n",
       "  </thead>\n",
       "  <tbody>\n",
       "    <tr>\n",
       "      <th>0</th>\n",
       "      <td>1610612748</td>\n",
       "      <td>2024</td>\n",
       "      <td>00</td>\n",
       "      <td>Josh Richardson</td>\n",
       "      <td>Josh</td>\n",
       "      <td>josh-richardson</td>\n",
       "      <td>0</td>\n",
       "      <td>G</td>\n",
       "      <td>6-5</td>\n",
       "      <td>200</td>\n",
       "      <td>SEP 15, 1993</td>\n",
       "      <td>31.0</td>\n",
       "      <td>9</td>\n",
       "      <td>Tennessee</td>\n",
       "      <td>1626196</td>\n",
       "      <td>Signed on 07/02/23</td>\n",
       "    </tr>\n",
       "    <tr>\n",
       "      <th>1</th>\n",
       "      <td>1610612748</td>\n",
       "      <td>2024</td>\n",
       "      <td>00</td>\n",
       "      <td>Terry Rozier</td>\n",
       "      <td>Terry</td>\n",
       "      <td>terry-rozier</td>\n",
       "      <td>2</td>\n",
       "      <td>G</td>\n",
       "      <td>6-1</td>\n",
       "      <td>190</td>\n",
       "      <td>MAR 17, 1994</td>\n",
       "      <td>30.0</td>\n",
       "      <td>9</td>\n",
       "      <td>Louisville</td>\n",
       "      <td>1626179</td>\n",
       "      <td>Traded from CHA on 01/23/24</td>\n",
       "    </tr>\n",
       "    <tr>\n",
       "      <th>2</th>\n",
       "      <td>1610612748</td>\n",
       "      <td>2024</td>\n",
       "      <td>00</td>\n",
       "      <td>Nikola Jović</td>\n",
       "      <td>Nikola</td>\n",
       "      <td>nikola-jović</td>\n",
       "      <td>5</td>\n",
       "      <td>F</td>\n",
       "      <td>6-10</td>\n",
       "      <td>205</td>\n",
       "      <td>JUN 09, 2003</td>\n",
       "      <td>21.0</td>\n",
       "      <td>2</td>\n",
       "      <td>Mega Basket</td>\n",
       "      <td>1631107</td>\n",
       "      <td>#27 Pick in 2022 Draft</td>\n",
       "    </tr>\n",
       "    <tr>\n",
       "      <th>3</th>\n",
       "      <td>1610612748</td>\n",
       "      <td>2024</td>\n",
       "      <td>00</td>\n",
       "      <td>Kel'el Ware</td>\n",
       "      <td>Kel'el</td>\n",
       "      <td>kelel-ware</td>\n",
       "      <td>7</td>\n",
       "      <td>C</td>\n",
       "      <td>7-0</td>\n",
       "      <td>230</td>\n",
       "      <td>APR 20, 2004</td>\n",
       "      <td>20.0</td>\n",
       "      <td>R</td>\n",
       "      <td>Indiana</td>\n",
       "      <td>1642276</td>\n",
       "      <td>#15 Pick in 2024 Draft</td>\n",
       "    </tr>\n",
       "    <tr>\n",
       "      <th>4</th>\n",
       "      <td>1610612748</td>\n",
       "      <td>2024</td>\n",
       "      <td>00</td>\n",
       "      <td>Josh Christopher</td>\n",
       "      <td>Josh</td>\n",
       "      <td>josh-christopher</td>\n",
       "      <td>8</td>\n",
       "      <td>G</td>\n",
       "      <td>6-4</td>\n",
       "      <td>215</td>\n",
       "      <td>DEC 08, 2001</td>\n",
       "      <td>22.0</td>\n",
       "      <td>2</td>\n",
       "      <td>Arizona State</td>\n",
       "      <td>1630528</td>\n",
       "      <td>Signed on 07/25/24</td>\n",
       "    </tr>\n",
       "  </tbody>\n",
       "</table>\n",
       "</div>"
      ],
      "text/plain": [
       "       TeamID SEASON LeagueID            PLAYER NICKNAME       PLAYER_SLUG  \\\n",
       "0  1610612748   2024       00   Josh Richardson     Josh   josh-richardson   \n",
       "1  1610612748   2024       00      Terry Rozier    Terry      terry-rozier   \n",
       "2  1610612748   2024       00      Nikola Jović   Nikola      nikola-jović   \n",
       "3  1610612748   2024       00       Kel'el Ware   Kel'el        kelel-ware   \n",
       "4  1610612748   2024       00  Josh Christopher     Josh  josh-christopher   \n",
       "\n",
       "  NUM POSITION HEIGHT WEIGHT    BIRTH_DATE   AGE EXP         SCHOOL  \\\n",
       "0   0        G    6-5    200  SEP 15, 1993  31.0   9      Tennessee   \n",
       "1   2        G    6-1    190  MAR 17, 1994  30.0   9     Louisville   \n",
       "2   5        F   6-10    205  JUN 09, 2003  21.0   2    Mega Basket   \n",
       "3   7        C    7-0    230  APR 20, 2004  20.0   R        Indiana   \n",
       "4   8        G    6-4    215  DEC 08, 2001  22.0   2  Arizona State   \n",
       "\n",
       "   PLAYER_ID                 HOW_ACQUIRED  \n",
       "0    1626196           Signed on 07/02/23  \n",
       "1    1626179  Traded from CHA on 01/23/24  \n",
       "2    1631107       #27 Pick in 2022 Draft  \n",
       "3    1642276       #15 Pick in 2024 Draft  \n",
       "4    1630528           Signed on 07/25/24  "
      ]
     },
     "execution_count": 178,
     "metadata": {},
     "output_type": "execute_result"
    }
   ],
   "source": [
    "# Step 2: Retrieve current roster for Team of Interest\n",
    "roster = commonteamroster.CommonTeamRoster(team_id=my_team_id)\n",
    "my_team_roster = roster.get_data_frames()[0]\n",
    "my_team_roster.head()\n"
   ]
  },
  {
   "cell_type": "code",
   "execution_count": 179,
   "metadata": {},
   "outputs": [
    {
     "data": {
      "text/html": [
       "<div>\n",
       "<style scoped>\n",
       "    .dataframe tbody tr th:only-of-type {\n",
       "        vertical-align: middle;\n",
       "    }\n",
       "\n",
       "    .dataframe tbody tr th {\n",
       "        vertical-align: top;\n",
       "    }\n",
       "\n",
       "    .dataframe thead th {\n",
       "        text-align: right;\n",
       "    }\n",
       "</style>\n",
       "<table border=\"1\" class=\"dataframe\">\n",
       "  <thead>\n",
       "    <tr style=\"text-align: right;\">\n",
       "      <th></th>\n",
       "      <th>TEAM_ID</th>\n",
       "      <th>SEASON</th>\n",
       "      <th>COACH_ID</th>\n",
       "      <th>FIRST_NAME</th>\n",
       "      <th>LAST_NAME</th>\n",
       "      <th>COACH_NAME</th>\n",
       "      <th>IS_ASSISTANT</th>\n",
       "      <th>COACH_TYPE</th>\n",
       "      <th>SORT_SEQUENCE</th>\n",
       "      <th>SUB_SORT_SEQUENCE</th>\n",
       "    </tr>\n",
       "  </thead>\n",
       "  <tbody>\n",
       "    <tr>\n",
       "      <th>0</th>\n",
       "      <td>1610612748</td>\n",
       "      <td>2024</td>\n",
       "      <td>1787</td>\n",
       "      <td>Erik</td>\n",
       "      <td>Spoelstra</td>\n",
       "      <td>Erik Spoelstra</td>\n",
       "      <td>1</td>\n",
       "      <td>Head Coach</td>\n",
       "      <td>None</td>\n",
       "      <td>1</td>\n",
       "    </tr>\n",
       "    <tr>\n",
       "      <th>1</th>\n",
       "      <td>1610612748</td>\n",
       "      <td>2024</td>\n",
       "      <td>2406</td>\n",
       "      <td>Caron</td>\n",
       "      <td>Butler</td>\n",
       "      <td>Caron Butler</td>\n",
       "      <td>2</td>\n",
       "      <td>Assistant Coach</td>\n",
       "      <td>None</td>\n",
       "      <td>5</td>\n",
       "    </tr>\n",
       "    <tr>\n",
       "      <th>2</th>\n",
       "      <td>1610612748</td>\n",
       "      <td>2024</td>\n",
       "      <td>204226</td>\n",
       "      <td>Chris</td>\n",
       "      <td>Quinn</td>\n",
       "      <td>Chris Quinn</td>\n",
       "      <td>2</td>\n",
       "      <td>Assistant Coach</td>\n",
       "      <td>None</td>\n",
       "      <td>5</td>\n",
       "    </tr>\n",
       "    <tr>\n",
       "      <th>3</th>\n",
       "      <td>1610612748</td>\n",
       "      <td>2024</td>\n",
       "      <td>204229</td>\n",
       "      <td>Malik</td>\n",
       "      <td>Allen</td>\n",
       "      <td>Malik Allen</td>\n",
       "      <td>2</td>\n",
       "      <td>Assistant Coach</td>\n",
       "      <td>None</td>\n",
       "      <td>5</td>\n",
       "    </tr>\n",
       "    <tr>\n",
       "      <th>4</th>\n",
       "      <td>1610612748</td>\n",
       "      <td>2024</td>\n",
       "      <td>1629855</td>\n",
       "      <td>Eric</td>\n",
       "      <td>Glass</td>\n",
       "      <td>Eric Glass</td>\n",
       "      <td>2</td>\n",
       "      <td>Assistant Coach</td>\n",
       "      <td>None</td>\n",
       "      <td>5</td>\n",
       "    </tr>\n",
       "  </tbody>\n",
       "</table>\n",
       "</div>"
      ],
      "text/plain": [
       "      TEAM_ID SEASON  COACH_ID FIRST_NAME  LAST_NAME      COACH_NAME  \\\n",
       "0  1610612748   2024      1787       Erik  Spoelstra  Erik Spoelstra   \n",
       "1  1610612748   2024      2406      Caron     Butler    Caron Butler   \n",
       "2  1610612748   2024    204226      Chris      Quinn     Chris Quinn   \n",
       "3  1610612748   2024    204229      Malik      Allen     Malik Allen   \n",
       "4  1610612748   2024   1629855       Eric      Glass      Eric Glass   \n",
       "\n",
       "   IS_ASSISTANT       COACH_TYPE SORT_SEQUENCE  SUB_SORT_SEQUENCE  \n",
       "0             1       Head Coach          None                  1  \n",
       "1             2  Assistant Coach          None                  5  \n",
       "2             2  Assistant Coach          None                  5  \n",
       "3             2  Assistant Coach          None                  5  \n",
       "4             2  Assistant Coach          None                  5  "
      ]
     },
     "execution_count": 179,
     "metadata": {},
     "output_type": "execute_result"
    }
   ],
   "source": [
    "# Aside: Retrieve coaches for Team of Interest\n",
    "my_team_coaches = roster.get_data_frames()[1]\n",
    "my_team_coaches.head()"
   ]
  },
  {
   "cell_type": "code",
   "execution_count": 180,
   "metadata": {},
   "outputs": [
    {
     "name": "stderr",
     "output_type": "stream",
     "text": [
      "/var/folders/ts/08ksnqhx0bz0sjbnl885d0gm0000gn/T/ipykernel_41366/2271843702.py:29: FutureWarning: The behavior of DataFrame concatenation with empty or all-NA entries is deprecated. In a future version, this will no longer exclude empty or all-NA columns when determining the result dtypes. To retain the old behavior, exclude the relevant entries before the concat operation.\n",
      "  combined_game_logs = pd.concat([game_log_df_23_24, game_log_df_24_25])\n",
      "/var/folders/ts/08ksnqhx0bz0sjbnl885d0gm0000gn/T/ipykernel_41366/2271843702.py:29: FutureWarning: The behavior of DataFrame concatenation with empty or all-NA entries is deprecated. In a future version, this will no longer exclude empty or all-NA columns when determining the result dtypes. To retain the old behavior, exclude the relevant entries before the concat operation.\n",
      "  combined_game_logs = pd.concat([game_log_df_23_24, game_log_df_24_25])\n",
      "/var/folders/ts/08ksnqhx0bz0sjbnl885d0gm0000gn/T/ipykernel_41366/2271843702.py:29: FutureWarning: The behavior of DataFrame concatenation with empty or all-NA entries is deprecated. In a future version, this will no longer exclude empty or all-NA columns when determining the result dtypes. To retain the old behavior, exclude the relevant entries before the concat operation.\n",
      "  combined_game_logs = pd.concat([game_log_df_23_24, game_log_df_24_25])\n",
      "/var/folders/ts/08ksnqhx0bz0sjbnl885d0gm0000gn/T/ipykernel_41366/2271843702.py:29: FutureWarning: The behavior of DataFrame concatenation with empty or all-NA entries is deprecated. In a future version, this will no longer exclude empty or all-NA columns when determining the result dtypes. To retain the old behavior, exclude the relevant entries before the concat operation.\n",
      "  combined_game_logs = pd.concat([game_log_df_23_24, game_log_df_24_25])\n",
      "/var/folders/ts/08ksnqhx0bz0sjbnl885d0gm0000gn/T/ipykernel_41366/2271843702.py:43: FutureWarning: The behavior of DataFrame concatenation with empty or all-NA entries is deprecated. In a future version, this will no longer exclude empty or all-NA columns when determining the result dtypes. To retain the old behavior, exclude the relevant entries before the concat operation.\n",
      "  all_game_logs_df = pd.concat(all_game_logs, ignore_index=True)\n"
     ]
    },
    {
     "data": {
      "text/html": [
       "<div>\n",
       "<style scoped>\n",
       "    .dataframe tbody tr th:only-of-type {\n",
       "        vertical-align: middle;\n",
       "    }\n",
       "\n",
       "    .dataframe tbody tr th {\n",
       "        vertical-align: top;\n",
       "    }\n",
       "\n",
       "    .dataframe thead th {\n",
       "        text-align: right;\n",
       "    }\n",
       "</style>\n",
       "<table border=\"1\" class=\"dataframe\">\n",
       "  <thead>\n",
       "    <tr style=\"text-align: right;\">\n",
       "      <th></th>\n",
       "      <th>SEASON_ID</th>\n",
       "      <th>Player_ID</th>\n",
       "      <th>Game_ID</th>\n",
       "      <th>GAME_DATE</th>\n",
       "      <th>MATCHUP</th>\n",
       "      <th>WL</th>\n",
       "      <th>MIN</th>\n",
       "      <th>FGM</th>\n",
       "      <th>FGA</th>\n",
       "      <th>FG_PCT</th>\n",
       "      <th>...</th>\n",
       "      <th>AST</th>\n",
       "      <th>STL</th>\n",
       "      <th>BLK</th>\n",
       "      <th>TOV</th>\n",
       "      <th>PF</th>\n",
       "      <th>PTS</th>\n",
       "      <th>PLUS_MINUS</th>\n",
       "      <th>VIDEO_AVAILABLE</th>\n",
       "      <th>PLAYER_ID</th>\n",
       "      <th>PLAYER</th>\n",
       "    </tr>\n",
       "  </thead>\n",
       "  <tbody>\n",
       "    <tr>\n",
       "      <th>0</th>\n",
       "      <td>22023</td>\n",
       "      <td>1626196</td>\n",
       "      <td>0022300759</td>\n",
       "      <td>2024-02-11</td>\n",
       "      <td>MIA vs. BOS</td>\n",
       "      <td>L</td>\n",
       "      <td>7</td>\n",
       "      <td>1</td>\n",
       "      <td>3</td>\n",
       "      <td>0.333</td>\n",
       "      <td>...</td>\n",
       "      <td>2</td>\n",
       "      <td>0</td>\n",
       "      <td>0</td>\n",
       "      <td>0</td>\n",
       "      <td>0</td>\n",
       "      <td>2</td>\n",
       "      <td>-6</td>\n",
       "      <td>1</td>\n",
       "      <td>1626196</td>\n",
       "      <td>Josh Richardson</td>\n",
       "    </tr>\n",
       "    <tr>\n",
       "      <th>1</th>\n",
       "      <td>22023</td>\n",
       "      <td>1626196</td>\n",
       "      <td>0022300730</td>\n",
       "      <td>2024-02-07</td>\n",
       "      <td>MIA vs. SAS</td>\n",
       "      <td>W</td>\n",
       "      <td>26</td>\n",
       "      <td>2</td>\n",
       "      <td>6</td>\n",
       "      <td>0.333</td>\n",
       "      <td>...</td>\n",
       "      <td>0</td>\n",
       "      <td>0</td>\n",
       "      <td>0</td>\n",
       "      <td>0</td>\n",
       "      <td>2</td>\n",
       "      <td>9</td>\n",
       "      <td>-3</td>\n",
       "      <td>1</td>\n",
       "      <td>1626196</td>\n",
       "      <td>Josh Richardson</td>\n",
       "    </tr>\n",
       "    <tr>\n",
       "      <th>2</th>\n",
       "      <td>22023</td>\n",
       "      <td>1626196</td>\n",
       "      <td>0022300721</td>\n",
       "      <td>2024-02-06</td>\n",
       "      <td>MIA vs. ORL</td>\n",
       "      <td>W</td>\n",
       "      <td>27</td>\n",
       "      <td>5</td>\n",
       "      <td>7</td>\n",
       "      <td>0.714</td>\n",
       "      <td>...</td>\n",
       "      <td>1</td>\n",
       "      <td>2</td>\n",
       "      <td>0</td>\n",
       "      <td>0</td>\n",
       "      <td>4</td>\n",
       "      <td>13</td>\n",
       "      <td>16</td>\n",
       "      <td>1</td>\n",
       "      <td>1626196</td>\n",
       "      <td>Josh Richardson</td>\n",
       "    </tr>\n",
       "    <tr>\n",
       "      <th>3</th>\n",
       "      <td>22023</td>\n",
       "      <td>1626196</td>\n",
       "      <td>0022300708</td>\n",
       "      <td>2024-02-04</td>\n",
       "      <td>MIA vs. LAC</td>\n",
       "      <td>L</td>\n",
       "      <td>33</td>\n",
       "      <td>6</td>\n",
       "      <td>13</td>\n",
       "      <td>0.462</td>\n",
       "      <td>...</td>\n",
       "      <td>4</td>\n",
       "      <td>0</td>\n",
       "      <td>0</td>\n",
       "      <td>0</td>\n",
       "      <td>2</td>\n",
       "      <td>14</td>\n",
       "      <td>-8</td>\n",
       "      <td>1</td>\n",
       "      <td>1626196</td>\n",
       "      <td>Josh Richardson</td>\n",
       "    </tr>\n",
       "    <tr>\n",
       "      <th>4</th>\n",
       "      <td>22023</td>\n",
       "      <td>1626196</td>\n",
       "      <td>0022300689</td>\n",
       "      <td>2024-02-02</td>\n",
       "      <td>MIA @ WAS</td>\n",
       "      <td>W</td>\n",
       "      <td>25</td>\n",
       "      <td>3</td>\n",
       "      <td>8</td>\n",
       "      <td>0.375</td>\n",
       "      <td>...</td>\n",
       "      <td>2</td>\n",
       "      <td>0</td>\n",
       "      <td>0</td>\n",
       "      <td>1</td>\n",
       "      <td>2</td>\n",
       "      <td>7</td>\n",
       "      <td>-6</td>\n",
       "      <td>1</td>\n",
       "      <td>1626196</td>\n",
       "      <td>Josh Richardson</td>\n",
       "    </tr>\n",
       "  </tbody>\n",
       "</table>\n",
       "<p>5 rows × 29 columns</p>\n",
       "</div>"
      ],
      "text/plain": [
       "  SEASON_ID Player_ID     Game_ID  GAME_DATE      MATCHUP WL MIN FGM FGA  \\\n",
       "0     22023   1626196  0022300759 2024-02-11  MIA vs. BOS  L   7   1   3   \n",
       "1     22023   1626196  0022300730 2024-02-07  MIA vs. SAS  W  26   2   6   \n",
       "2     22023   1626196  0022300721 2024-02-06  MIA vs. ORL  W  27   5   7   \n",
       "3     22023   1626196  0022300708 2024-02-04  MIA vs. LAC  L  33   6  13   \n",
       "4     22023   1626196  0022300689 2024-02-02    MIA @ WAS  W  25   3   8   \n",
       "\n",
       "   FG_PCT  ... AST STL  BLK TOV PF  PTS PLUS_MINUS VIDEO_AVAILABLE PLAYER_ID  \\\n",
       "0   0.333  ...   2   0    0   0  0    2         -6               1   1626196   \n",
       "1   0.333  ...   0   0    0   0  2    9         -3               1   1626196   \n",
       "2   0.714  ...   1   2    0   0  4   13         16               1   1626196   \n",
       "3   0.462  ...   4   0    0   0  2   14         -8               1   1626196   \n",
       "4   0.375  ...   2   0    0   1  2    7         -6               1   1626196   \n",
       "\n",
       "            PLAYER  \n",
       "0  Josh Richardson  \n",
       "1  Josh Richardson  \n",
       "2  Josh Richardson  \n",
       "3  Josh Richardson  \n",
       "4  Josh Richardson  \n",
       "\n",
       "[5 rows x 29 columns]"
      ]
     },
     "execution_count": 180,
     "metadata": {},
     "output_type": "execute_result"
    }
   ],
   "source": [
    "# Step 3: Get Game Logs for Dates of Interest\n",
    "from nba_api.stats.endpoints import playergamelog\n",
    "\n",
    "# Today's Date for Date Range Below\n",
    "todays_date = datetime.today().date()\n",
    "todays_date = todays_date.strftime('%Y-%m-%d')\n",
    "\n",
    "# Get Player IDs for Team of Interest\n",
    "player_ids = list(my_team_roster[\"PLAYER_ID\"])\n",
    "\n",
    "# Relevant Dates\n",
    "start_date = '2023-10-24' #start of 2023-2024 season\n",
    "end_date = todays_date #today\n",
    "\n",
    "# Create empty list to collect game logs for all players\n",
    "all_game_logs = []\n",
    "\n",
    "# Loop through each player ID to fetch their game logs\n",
    "for player_id in player_ids:\n",
    "    # Pull game logs for the 2023-24 season\n",
    "    game_log_23_24 = playergamelog.PlayerGameLog(player_id=player_id, season='2023-24', season_type_all_star='Regular Season')\n",
    "    game_log_df_23_24 = game_log_23_24.get_data_frames()[0]\n",
    "\n",
    "    # Pull game logs for the 2024-25 season\n",
    "    game_log_24_25 = playergamelog.PlayerGameLog(player_id=player_id, season='2024-25', season_type_all_star='Regular Season')\n",
    "    game_log_df_24_25 = game_log_24_25.get_data_frames()[0]\n",
    "\n",
    "    # Combine both seasons’ data\n",
    "    combined_game_logs = pd.concat([game_log_df_23_24, game_log_df_24_25])\n",
    "\n",
    "    # Filter for the desired date range\n",
    "    combined_game_logs['GAME_DATE'] = pd.to_datetime(combined_game_logs['GAME_DATE'], format='%b %d, %Y')\n",
    "    filtered_game_logs = combined_game_logs[(combined_game_logs['GAME_DATE'] >= start_date) & \n",
    "                                            (combined_game_logs['GAME_DATE'] <= end_date)]\n",
    "    \n",
    "    # Add player ID for reference\n",
    "    filtered_game_logs['PLAYER_ID'] = player_id\n",
    "    \n",
    "    # Append filtered logs to the list\n",
    "    all_game_logs.append(filtered_game_logs)\n",
    "\n",
    "# Combine all players' game logs into a single DataFrame\n",
    "all_game_logs_df = pd.concat(all_game_logs, ignore_index=True)\n",
    "\n",
    "# Add player names\n",
    "clean_game_logs = pd.merge(all_game_logs_df, my_team_roster[[\"PLAYER_ID\", \"PLAYER\"]], on=\"PLAYER_ID\", how='left')\n",
    "clean_game_logs.head()"
   ]
  },
  {
   "cell_type": "markdown",
   "metadata": {},
   "source": [
    "At this point, I have a dataframe with some basic box score stats for each player on my team of interest. The games go back to the start of the NBA season that began October 2023 and run through today.\n",
    "\n",
    "The dataset includes players on the team of interest *today*, but the stats may be from while that player was on another team. For example, Alec Burks did not play for the Heat last season, so the 60+ games below are from games he played for the Pistons and Knicks.\n",
    "\n",
    "There will only be a game log if the player entered the game. There may be instances where the player was injured and completely unavailable, or the player was available but the coach chose not to sub him in."
   ]
  },
  {
   "cell_type": "code",
   "execution_count": null,
   "metadata": {},
   "outputs": [
    {
     "data": {
      "text/plain": [
       "PLAYER\n",
       "Alec Burks           68\n",
       "Bam Adebayo          75\n",
       "Dru Smith            12\n",
       "Duncan Robinson      72\n",
       "Haywood Highsmith    68\n",
       "Jaime Jaquez Jr.     79\n",
       "Jimmy Butler         64\n",
       "Josh Richardson      43\n",
       "Kel'el Ware           1\n",
       "Kevin Love           55\n",
       "Nikola Jović         50\n",
       "Pelle Larsson         1\n",
       "Terry Rozier         65\n",
       "Thomas Bryant        42\n",
       "Tyler Herro          46\n",
       "dtype: int64"
      ]
     },
     "execution_count": 181,
     "metadata": {},
     "output_type": "execute_result"
    }
   ],
   "source": [
    "# Count Games per Player\n",
    "games_by_player = clean_game_logs.groupby('PLAYER').size()\n",
    "games_by_player"
   ]
  },
  {
   "cell_type": "markdown",
   "metadata": {},
   "source": [
    "Some observations from the counts above:\n",
    "1. Heat players miss a lot of games due to injury, especially stars Jimmy Butler and Tyler Herro\n",
    "2. Rookies: Kel'el Ware, Keshad Johnson, Pelle Larsson\n",
    "3. Two-way players: Josh Christopher (2 yrs), Keshad Johnson (R), Dru Smith (2 yrs)\n",
    "4. Key Injuries:\n",
    "    - Josh Richardson had shoulder surgery in the spring\n",
    "    - Dru Smith tore his ACL early last season\n",
    "5. Alec Burks is a veteran who played for DET/NYK last season, so most of his stats are not in Heat uniform"
   ]
  },
  {
   "cell_type": "markdown",
   "metadata": {},
   "source": [
    "# Histograms of Key Stats for a Player of Interest"
   ]
  },
  {
   "cell_type": "code",
   "execution_count": 182,
   "metadata": {},
   "outputs": [
    {
     "data": {
      "text/plain": [
       "0       Josh Richardson\n",
       "1          Terry Rozier\n",
       "2          Nikola Jović\n",
       "3           Kel'el Ware\n",
       "4      Josh Christopher\n",
       "5         Pelle Larsson\n",
       "6      Jaime Jaquez Jr.\n",
       "7             Dru Smith\n",
       "8           Bam Adebayo\n",
       "9           Tyler Herro\n",
       "10       Keshad Johnson\n",
       "11           Alec Burks\n",
       "12         Jimmy Butler\n",
       "13    Haywood Highsmith\n",
       "14        Thomas Bryant\n",
       "15           Kevin Love\n",
       "16      Duncan Robinson\n",
       "Name: PLAYER, dtype: object"
      ]
     },
     "execution_count": 182,
     "metadata": {},
     "output_type": "execute_result"
    }
   ],
   "source": [
    "# List of Players on Team of Interest\n",
    "my_team_roster[\"PLAYER\"]"
   ]
  },
  {
   "cell_type": "code",
   "execution_count": 184,
   "metadata": {},
   "outputs": [
    {
     "data": {
      "text/html": [
       "<img src=\"https://cdn.nba.com/headshots/nba/latest/1040x760/202710.png\"/>"
      ],
      "text/plain": [
       "<IPython.core.display.Image object>"
      ]
     },
     "metadata": {},
     "output_type": "display_data"
    }
   ],
   "source": [
    "# Step 4: Select Player of Interest\n",
    "player_of_interest = \"Jimmy Butler\"\n",
    "\n",
    "# Filter the Game Logs to the Player of Interest\n",
    "player_of_interest_id = my_team_roster.loc[my_team_roster[\"PLAYER\"] == player_of_interest, \"PLAYER_ID\"].values[0]\n",
    "player_of_interest_data = clean_game_logs.loc[clean_game_logs[\"PLAYER\"] == player_of_interest]\n",
    "n_games = games_by_player[player_of_interest]\n",
    "\n",
    "# Get Image of Player of Interest\n",
    "url = f\"https://cdn.nba.com/headshots/nba/latest/1040x760/{player_of_interest_id}.png\"\n",
    "\n",
    "# Display the image\n",
    "display(Image(url=url))"
   ]
  },
  {
   "cell_type": "markdown",
   "metadata": {},
   "source": [
    "## POINTS"
   ]
  },
  {
   "cell_type": "code",
   "execution_count": 185,
   "metadata": {},
   "outputs": [
    {
     "data": {
      "image/png": "[encoded data removed]",
      "text/plain": [
       "<Figure size 640x480 with 1 Axes>"
      ]
     },
     "metadata": {},
     "output_type": "display_data"
    },
    {
     "name": "stdout",
     "output_type": "stream",
     "text": [
      "Jimmy Butler has averaged 20.5 points per game over his past 64 regular season games.\n",
      "Median points per game = 20.0\n",
      "Minimum points per game = 3\n",
      "Maximum points per game = 37\n",
      "Standard deviation of points per game = 7.1\n"
     ]
    }
   ],
   "source": [
    "# PLOT 1: POINTS histogram\n",
    "\n",
    "# Create plot\n",
    "plt.hist(player_of_interest_data[\"PTS\"], bins=10, edgecolor='black')\n",
    "\n",
    "# Add labels and title\n",
    "plt.xlabel('Points')\n",
    "plt.ylabel('Games')\n",
    "plt.title(f\"Histogram of Points for {player_of_interest}\")\n",
    "\n",
    "# Show the plot\n",
    "plt.show()\n",
    "\n",
    "# Get key stats\n",
    "mean_pts = round(np.mean(player_of_interest_data[\"PTS\"]),1)\n",
    "median_pts = round(np.median(player_of_interest_data[\"PTS\"]),1)\n",
    "min_pts = np.min(player_of_interest_data[\"PTS\"])\n",
    "max_pts = np.max(player_of_interest_data[\"PTS\"])\n",
    "sd_pts = round(np.std(player_of_interest_data[\"PTS\"]),1)\n",
    "\n",
    "# Print key stats\n",
    "print(f\"{player_of_interest} has averaged {mean_pts} points per game over his past {n_games} regular season games.\")\n",
    "print(f\"Median points per game = {median_pts}\")\n",
    "print(f\"Minimum points per game = {min_pts}\")\n",
    "print(f\"Maximum points per game = {max_pts}\")\n",
    "print(f\"Standard deviation of points per game = {sd_pts}\")"
   ]
  },
  {
   "cell_type": "code",
   "execution_count": 186,
   "metadata": {},
   "outputs": [
    {
     "name": "stdout",
     "output_type": "stream",
     "text": [
      "The likelihood of Jimmy Butler getting 30 points or more is approximately 12.5%.\n"
     ]
    }
   ],
   "source": [
    "# Sort the data for cumulative distribution\n",
    "sorted_pts_data = player_of_interest_data.sort_values(by=\"PTS\")\n",
    "\n",
    "# Define the value of interest\n",
    "x_pts = 30\n",
    "\n",
    "# Calculate the cumulative probability for x\n",
    "ecdf = round(100 - stats.percentileofscore(sorted_pts_data[\"PTS\"], x_pts, kind='strict'),2)\n",
    "print(f\"The likelihood of {player_of_interest} getting {x_pts} points or more is approximately {ecdf}%.\")"
   ]
  },
  {
   "cell_type": "markdown",
   "metadata": {},
   "source": [
    "## REBOUNDS"
   ]
  },
  {
   "cell_type": "code",
   "execution_count": 187,
   "metadata": {},
   "outputs": [
    {
     "data": {
      "image/png": "[encoded data removed]",
      "text/plain": [
       "<Figure size 640x480 with 1 Axes>"
      ]
     },
     "metadata": {},
     "output_type": "display_data"
    },
    {
     "name": "stdout",
     "output_type": "stream",
     "text": [
      "Jimmy Butler has averaged 5.3 rebounds per game over his past 64 regular season games.\n",
      "Median rebounds per game = 4.5\n",
      "Minimum rebounds per game = 2\n",
      "Maximum rebounds per game = 13\n",
      "Standard deviation of rebounds per game = 2.3\n"
     ]
    }
   ],
   "source": [
    "# PLOT 2: REBOUNDS histogram\n",
    "\n",
    "# Create plot\n",
    "plt.hist(player_of_interest_data[\"REB\"], bins=10, edgecolor='black')\n",
    "\n",
    "# Add labels and title\n",
    "plt.xlabel('Rebounds')\n",
    "plt.ylabel('Games')\n",
    "plt.title(f\"Histogram of Rebounds for {player_of_interest}\")\n",
    "\n",
    "# Show the plot\n",
    "plt.show()\n",
    "\n",
    "# Get key stats\n",
    "mean_reb = round(np.mean(player_of_interest_data[\"REB\"]),1)\n",
    "median_reb = round(np.median(player_of_interest_data[\"REB\"]),1)\n",
    "min_reb = np.min(player_of_interest_data[\"REB\"])\n",
    "max_reb = np.max(player_of_interest_data[\"REB\"])\n",
    "sd_reb = round(np.std(player_of_interest_data[\"REB\"]),1)\n",
    "\n",
    "# Print key stats\n",
    "print(f\"{player_of_interest} has averaged {mean_reb} rebounds per game over his past {n_games} regular season games.\")\n",
    "print(f\"Median rebounds per game = {median_reb}\")\n",
    "print(f\"Minimum rebounds per game = {min_reb}\")\n",
    "print(f\"Maximum rebounds per game = {max_reb}\")\n",
    "print(f\"Standard deviation of rebounds per game = {sd_reb}\")"
   ]
  },
  {
   "cell_type": "code",
   "execution_count": 188,
   "metadata": {},
   "outputs": [
    {
     "name": "stdout",
     "output_type": "stream",
     "text": [
      "The likelihood of Jimmy Butler getting 8 rebounds or more is approximately 17.19%.\n"
     ]
    }
   ],
   "source": [
    "# Sort the data for cumulative distribution\n",
    "sorted_pts_data = player_of_interest_data.sort_values(by=\"REB\")\n",
    "\n",
    "# Define the value of interest\n",
    "x_reb = 8\n",
    "\n",
    "# Calculate the cumulative probability for x\n",
    "ecdf = round(100 - stats.percentileofscore(sorted_pts_data[\"REB\"], x_reb, kind='strict'),2)\n",
    "print(f\"The likelihood of {player_of_interest} getting {x_reb} rebounds or more is approximately {ecdf}%.\")"
   ]
  },
  {
   "cell_type": "markdown",
   "metadata": {},
   "source": [
    "## ASSISTS"
   ]
  },
  {
   "cell_type": "code",
   "execution_count": 189,
   "metadata": {},
   "outputs": [
    {
     "data": {
      "image/png": "[encoded data removed]",
      "text/plain": [
       "<Figure size 640x480 with 1 Axes>"
      ]
     },
     "metadata": {},
     "output_type": "display_data"
    },
    {
     "name": "stdout",
     "output_type": "stream",
     "text": [
      "Jimmy Butler has averaged 5.0 assists per game over his past 64 regular season games.\n",
      "Median assists per game = 5.0\n",
      "Minimum assists per game = 1\n",
      "Maximum assists per game = 11\n",
      "Standard deviation of assists per game = 2.3\n"
     ]
    }
   ],
   "source": [
    "# PLOT 3: ASSISTS histogram\n",
    "\n",
    "# Create plot\n",
    "plt.hist(player_of_interest_data[\"AST\"], bins=10, edgecolor='black')\n",
    "\n",
    "# Add labels and title\n",
    "plt.xlabel('Assists')\n",
    "plt.ylabel('Games')\n",
    "plt.title(f\"Histogram of Assists for {player_of_interest}\")\n",
    "\n",
    "# Show the plot\n",
    "plt.show()\n",
    "\n",
    "# Get key stats\n",
    "mean_ast = round(np.mean(player_of_interest_data[\"AST\"]),1)\n",
    "median_ast = round(np.median(player_of_interest_data[\"AST\"]),1)\n",
    "min_ast = np.min(player_of_interest_data[\"AST\"])\n",
    "max_ast = np.max(player_of_interest_data[\"AST\"])\n",
    "sd_ast = round(np.std(player_of_interest_data[\"AST\"]),1)\n",
    "\n",
    "# Print key stats\n",
    "print(f\"{player_of_interest} has averaged {mean_ast} assists per game over his past {n_games} regular season games.\")\n",
    "print(f\"Median assists per game = {median_ast}\")\n",
    "print(f\"Minimum assists per game = {min_ast}\")\n",
    "print(f\"Maximum assists per game = {max_ast}\")\n",
    "print(f\"Standard deviation of assists per game = {sd_ast}\")"
   ]
  },
  {
   "cell_type": "code",
   "execution_count": 190,
   "metadata": {},
   "outputs": [
    {
     "name": "stdout",
     "output_type": "stream",
     "text": [
      "The likelihood of Jimmy Butler getting 7 assists or more is approximately 26.56%.\n"
     ]
    }
   ],
   "source": [
    "# Sort the data for cumulative distribution\n",
    "sorted_pts_data = player_of_interest_data.sort_values(by=\"AST\")\n",
    "\n",
    "# Define the value of interest\n",
    "x_ast = 7\n",
    "\n",
    "# Calculate the cumulative probability for x\n",
    "ecdf = round(100 - stats.percentileofscore(sorted_pts_data[\"AST\"], x_ast, kind='strict'),2)\n",
    "print(f\"The likelihood of {player_of_interest} getting {x_ast} assists or more is approximately {ecdf}%.\")"
   ]
  },
  {
   "cell_type": "markdown",
   "metadata": {},
   "source": [
    "## 3-POINTERS"
   ]
  },
  {
   "cell_type": "code",
   "execution_count": 191,
   "metadata": {},
   "outputs": [
    {
     "data": {
      "image/png": "[encoded data removed]",
      "text/plain": [
       "<Figure size 640x480 with 1 Axes>"
      ]
     },
     "metadata": {},
     "output_type": "display_data"
    },
    {
     "name": "stdout",
     "output_type": "stream",
     "text": [
      "Jimmy Butler has averaged 1.0 3-pointers per game over his past 64 regular season games.\n",
      "Median 3-pointers per game = 1.0\n",
      "Minimum 3-pointers per game = 0\n",
      "Maximum 3-pointers per game = 3\n",
      "Standard deviation of 3-pointers per game = 0.9\n"
     ]
    }
   ],
   "source": [
    "# PLOT 4: 3-POINTERS histogram\n",
    "\n",
    "# Create plot\n",
    "plt.hist(player_of_interest_data[\"FG3M\"], bins=10, edgecolor='black')\n",
    "\n",
    "# Add labels and title\n",
    "plt.xlabel('3-pt FGs Made')\n",
    "plt.ylabel('Games')\n",
    "plt.title(f\"Histogram of 3-pt FGs Made for {player_of_interest}\")\n",
    "\n",
    "# Show the plot\n",
    "plt.show()\n",
    "\n",
    "# Get key stats\n",
    "mean_fg3m = round(np.mean(player_of_interest_data[\"FG3M\"]),1)\n",
    "median_fg3m = round(np.median(player_of_interest_data[\"FG3M\"]),1)\n",
    "min_fg3m = np.min(player_of_interest_data[\"FG3M\"])\n",
    "max_fg3m = np.max(player_of_interest_data[\"FG3M\"])\n",
    "sd_fg3m = round(np.std(player_of_interest_data[\"FG3M\"]),1)\n",
    "\n",
    "# Print key stats\n",
    "print(f\"{player_of_interest} has averaged {mean_fg3m} 3-pointers per game over his past {n_games} regular season games.\")\n",
    "print(f\"Median 3-pointers per game = {median_fg3m}\")\n",
    "print(f\"Minimum 3-pointers per game = {min_fg3m}\")\n",
    "print(f\"Maximum 3-pointers per game = {max_fg3m}\")\n",
    "print(f\"Standard deviation of 3-pointers per game = {sd_fg3m}\")"
   ]
  },
  {
   "cell_type": "code",
   "execution_count": 192,
   "metadata": {},
   "outputs": [
    {
     "name": "stdout",
     "output_type": "stream",
     "text": [
      "The likelihood of Jimmy Butler getting 2 3-pointers or more is approximately 25.0%.\n"
     ]
    }
   ],
   "source": [
    "# Sort the data for cumulative distribution\n",
    "sorted_pts_data = player_of_interest_data.sort_values(by=\"FG3M\")\n",
    "\n",
    "# Define the value of interest\n",
    "x_fg3m = 2\n",
    "\n",
    "# Calculate the cumulative probability for x\n",
    "ecdf = round(100 - stats.percentileofscore(sorted_pts_data[\"FG3M\"], x_fg3m, kind='strict'),2)\n",
    "print(f\"The likelihood of {player_of_interest} getting {x_fg3m} 3-pointers or more is approximately {ecdf}%.\")"
   ]
  },
  {
   "cell_type": "markdown",
   "metadata": {},
   "source": [
    "## FREE THROWS"
   ]
  },
  {
   "cell_type": "code",
   "execution_count": 193,
   "metadata": {},
   "outputs": [
    {
     "data": {
      "image/png": "[encoded data removed]",
      "text/plain": [
       "<Figure size 640x480 with 1 Axes>"
      ]
     },
     "metadata": {},
     "output_type": "display_data"
    },
    {
     "name": "stdout",
     "output_type": "stream",
     "text": [
      "Jimmy Butler has averaged 6.5 free throws made per game over his past 64 regular season games.\n",
      "Median free throws made per game = 6.5\n",
      "Minimum free throws made per game = 0\n",
      "Maximum free throws made per game = 18\n",
      "Standard deviation of free throws made per game = 3.4\n"
     ]
    }
   ],
   "source": [
    "# PLOT 5: FREE THROWS histogram\n",
    "\n",
    "# Create plot\n",
    "plt.hist(player_of_interest_data[\"FTM\"], bins=10, edgecolor='black')\n",
    "\n",
    "# Add labels and title\n",
    "plt.xlabel('Free Throws Made')\n",
    "plt.ylabel('Games')\n",
    "plt.title(f\"Histogram of Free Throws Made for {player_of_interest}\")\n",
    "\n",
    "# Show the plot\n",
    "plt.show()\n",
    "\n",
    "# Get key stats\n",
    "mean_ftm = round(np.mean(player_of_interest_data[\"FTM\"]),1)\n",
    "median_ftm = round(np.median(player_of_interest_data[\"FTM\"]),1)\n",
    "min_ftm = np.min(player_of_interest_data[\"FTM\"])\n",
    "max_ftm = np.max(player_of_interest_data[\"FTM\"])\n",
    "sd_ftm = round(np.std(player_of_interest_data[\"FTM\"]),1)\n",
    "\n",
    "# Print key stats\n",
    "print(f\"{player_of_interest} has averaged {mean_ftm} free throws made per game over his past {n_games} regular season games.\")\n",
    "print(f\"Median free throws made per game = {median_ftm}\")\n",
    "print(f\"Minimum free throws made per game = {min_ftm}\")\n",
    "print(f\"Maximum free throws made per game = {max_ftm}\")\n",
    "print(f\"Standard deviation of free throws made per game = {sd_ftm}\")"
   ]
  },
  {
   "cell_type": "code",
   "execution_count": 194,
   "metadata": {},
   "outputs": [
    {
     "name": "stdout",
     "output_type": "stream",
     "text": [
      "The likelihood of Jimmy Butler making 2 free throws or more is approximately 93.75%.\n"
     ]
    }
   ],
   "source": [
    "# Sort the data for cumulative distribution\n",
    "sorted_pts_data = player_of_interest_data.sort_values(by=\"FTM\")\n",
    "\n",
    "# Define the value of interest\n",
    "x_ftm = 2\n",
    "\n",
    "# Calculate the cumulative probability for x\n",
    "ecdf = round(100 - stats.percentileofscore(sorted_pts_data[\"FTM\"], x_ftm, kind='strict'),2)\n",
    "print(f\"The likelihood of {player_of_interest} making {x_ftm} free throws or more is approximately {ecdf}%.\")"
   ]
  },
  {
   "cell_type": "markdown",
   "metadata": {},
   "source": [
    "## STEALS"
   ]
  },
  {
   "cell_type": "code",
   "execution_count": 195,
   "metadata": {},
   "outputs": [
    {
     "data": {
      "image/png": "[encoded data removed]",
      "text/plain": [
       "<Figure size 640x480 with 1 Axes>"
      ]
     },
     "metadata": {},
     "output_type": "display_data"
    },
    {
     "name": "stdout",
     "output_type": "stream",
     "text": [
      "Jimmy Butler has averaged 1.4 steals per game over his past 64 regular season games.\n",
      "Median steals per game = 1.0\n",
      "Minimum steals per game = 0\n",
      "Maximum steals per game = 4\n",
      "Standard deviation of steals per game = 1.1\n"
     ]
    }
   ],
   "source": [
    "# PLOT 6: STEALS histogram\n",
    "\n",
    "# Create plot\n",
    "plt.hist(player_of_interest_data[\"STL\"], bins=10, edgecolor='black')\n",
    "\n",
    "# Add labels and title\n",
    "plt.xlabel('Steals')\n",
    "plt.ylabel('Games')\n",
    "plt.title(f\"Histogram of Steals for {player_of_interest}\")\n",
    "\n",
    "# Show the plot\n",
    "plt.show()\n",
    "\n",
    "# Get key stats\n",
    "mean_stl = round(np.mean(player_of_interest_data[\"STL\"]),1)\n",
    "median_stl = round(np.median(player_of_interest_data[\"STL\"]),1)\n",
    "min_stl = np.min(player_of_interest_data[\"STL\"])\n",
    "max_stl = np.max(player_of_interest_data[\"STL\"])\n",
    "sd_stl = round(np.std(player_of_interest_data[\"STL\"]),1)\n",
    "\n",
    "# Print key stats\n",
    "print(f\"{player_of_interest} has averaged {mean_stl} steals per game over his past {n_games} regular season games.\")\n",
    "print(f\"Median steals per game = {median_stl}\")\n",
    "print(f\"Minimum steals per game = {min_stl}\")\n",
    "print(f\"Maximum steals per game = {max_stl}\")\n",
    "print(f\"Standard deviation of steals per game = {sd_stl}\")"
   ]
  },
  {
   "cell_type": "code",
   "execution_count": 196,
   "metadata": {},
   "outputs": [
    {
     "name": "stdout",
     "output_type": "stream",
     "text": [
      "The likelihood of Jimmy Butler getting 2 steals or more is approximately 42.19%.\n"
     ]
    }
   ],
   "source": [
    "# Sort the data for cumulative distribution\n",
    "sorted_pts_data = player_of_interest_data.sort_values(by=\"STL\")\n",
    "\n",
    "# Define the value of interest\n",
    "x_stl = 2\n",
    "\n",
    "# Calculate the cumulative probability for x\n",
    "ecdf = round(100 - stats.percentileofscore(sorted_pts_data[\"STL\"], x_stl, kind='strict'),2)\n",
    "print(f\"The likelihood of {player_of_interest} getting {x_stl} steals or more is approximately {ecdf}%.\")"
   ]
  }
 ],
 "metadata": {
  "kernelspec": {
   "display_name": "project1_env",
   "language": "python",
   "name": "python3"
  },
  "language_info": {
   "codemirror_mode": {
    "name": "ipython",
    "version": 3
   },
   "file_extension": ".py",
   "mimetype": "text/x-python",
   "name": "python",
   "nbconvert_exporter": "python",
   "pygments_lexer": "ipython3",
   "version": "3.13.0"
  }
 },
 "nbformat": 4,
 "nbformat_minor": 2
}
